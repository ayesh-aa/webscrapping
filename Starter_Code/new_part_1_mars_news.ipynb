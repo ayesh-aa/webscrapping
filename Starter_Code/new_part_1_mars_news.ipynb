{
 "cells": [
  {
   "cell_type": "code",
   "execution_count": null,
   "id": "80d43647-90b8-482a-a650-450bd680a739",
   "metadata": {},
   "outputs": [],
   "source": [
    "Module 12 Challenge\n",
    "Deliverable 1: Scrape Titles and Preview Text from Mars News¶"
   ]
  },
  {
   "cell_type": "code",
   "execution_count": 1,
   "id": "935fb080-b55a-4edc-859e-d5fef136ab1b",
   "metadata": {},
   "outputs": [],
   "source": [
    "from selenium import webdriver\n",
    "from bs4 import BeautifulSoup"
   ]
  },
  {
   "cell_type": "code",
   "execution_count": null,
   "id": "1d9536a1-85ec-4298-813b-e5dd10255508",
   "metadata": {},
   "outputs": [],
   "source": [
    "Step 1: Visit the Website\n",
    "Use automated browsing to visit the Mars news site. Inspect the page to identify which elements to scrape.\n",
    "\n",
    "Hint To identify which elements to scrape, you might want to inspect the page by using Chrome DevTools.\n",
    "\n"
   ]
  },
  {
   "cell_type": "code",
   "execution_count": 2,
   "id": "8696d0cf-7650-46d6-976f-6176f9085570",
   "metadata": {},
   "outputs": [],
   "source": [
    "# Set up Chrome WebDriver\n",
    "options = webdriver.ChromeOptions()\n",
    "options.add_argument('--ignore-certificate-errors')\n",
    "options.add_argument('--incognito')\n",
    "options.add_argument('--headless')  # Run Chrome in headless mode\n",
    "driver = webdriver.Chrome(options=options)"
   ]
  },
  {
   "cell_type": "code",
   "execution_count": 3,
   "id": "d516f79f-1ea5-4e4b-8ec1-fee611308fd1",
   "metadata": {},
   "outputs": [],
   "source": [
    "#Visit the Mars news site\n",
    "url = 'https://static.bc-edx.com/data/web/mars_news/index.html'\n",
    "driver.get(url)"
   ]
  },
  {
   "cell_type": "code",
   "execution_count": null,
   "id": "3d6a15d6-fb67-453d-9d82-1f75a8ab1c57",
   "metadata": {},
   "outputs": [],
   "source": [
    "Step 2: Scrape the Website\n",
    "Create a Beautiful Soup object and use it to extract text elements from the website."
   ]
  },
  {
   "cell_type": "code",
   "execution_count": 4,
   "id": "629e67bb-f7f4-4ff9-a61d-9d1d6bfc14ea",
   "metadata": {},
   "outputs": [],
   "source": [
    "# Wait for the page to load completely (adjust the time as needed)\n",
    "driver.implicitly_wait(10)  # Wait for up to 10 seconds"
   ]
  },
  {
   "cell_type": "code",
   "execution_count": 5,
   "id": "fcbe4fa0-7409-4d22-b3bf-f899c0220cb1",
   "metadata": {},
   "outputs": [],
   "source": [
    "# Extract HTML content after the page has fully loaded\n",
    "html = driver.page_source"
   ]
  },
  {
   "cell_type": "code",
   "execution_count": 6,
   "id": "d7d082bf-8701-4aa6-b869-a886a8234cb7",
   "metadata": {},
   "outputs": [],
   "source": [
    "# Create a BeautifulSoup object\n",
    "soup = BeautifulSoup(html, 'html.parser')"
   ]
  },
  {
   "cell_type": "code",
   "execution_count": 8,
   "id": "0430da8b-0948-4a09-b796-8c34519dd9dc",
   "metadata": {},
   "outputs": [],
   "source": [
    "# Find all text elements containing titles and preview text\n",
    "texts = soup.find_all('div', class_='list_text')"
   ]
  },
  {
   "cell_type": "code",
   "execution_count": null,
   "id": "6682bec7-e970-478c-afec-b539c83975b1",
   "metadata": {},
   "outputs": [],
   "source": [
    "Step 3: Store the Results\n",
    "Extract the titles and preview text of the news articles that you scraped. Store the scraping results in Python data structures as follows:\n",
    "\n",
    "Store each title-and-preview pair in a Python dictionary. And, give each dictionary two keys: title and preview. An example is the following:\n",
    "\n",
    "{'title': \"NASA's MAVEN Observes Martian Light Show Caused by Major Solar Storm\", \n",
    " 'preview': \"For the first time in its eight years orbiting Mars, NASA’s MAVEN mission witnessed two different types of ultraviolet aurorae simultaneously, the result of solar storms that began on Aug. 27.\"\n",
    "}\n",
    "Store all the dictionaries in a Python list.\n",
    "\n",
    "Print the list in your notebook."
   ]
  },
  {
   "cell_type": "code",
   "execution_count": 9,
   "id": "7e244c81-a699-4f30-879b-0dae9cf2f927",
   "metadata": {},
   "outputs": [],
   "source": [
    "# Create an empty list to store the dictionaries\n",
    "articles = []"
   ]
  },
  {
   "cell_type": "code",
   "execution_count": 10,
   "id": "354f9d2e-dbca-4b97-ae39-360f4823eaf6",
   "metadata": {},
   "outputs": [],
   "source": [
    "# Loop through the text elements\n",
    "for text in texts:\n",
    "    # Extract the title and preview text from each element\n",
    "    article_title = text.find('div', class_='content_title').text.strip()\n",
    "    article_preview = text.find('div', class_='article_teaser_body').text.strip()\n",
    "    \n",
    "\n",
    "    # Store each title and preview pair in a dictionary\n",
    "    article = {'title': article_title, 'preview': article_preview}\n",
    "    \n",
    "    # Add the dictionary to the list\n",
    "    articles.append(article)"
   ]
  },
  {
   "cell_type": "code",
   "execution_count": 11,
   "id": "9a9b2cc6-1d78-44b4-b5a6-7f5b35f02246",
   "metadata": {},
   "outputs": [
    {
     "name": "stdout",
     "output_type": "stream",
     "text": [
      "[{'title': \"NASA's MAVEN Observes Martian Light Show Caused by Major Solar Storm\", 'preview': 'For the first time in its eight years orbiting Mars, NASA’s MAVEN mission witnessed two different types of ultraviolet aurorae simultaneously, the result of solar storms that began on Aug. 27.'}, {'title': \"NASA Prepares to Say 'Farewell' to InSight Spacecraft\", 'preview': 'A closer look at what goes into wrapping up the mission as the spacecraft’s power supply continues to dwindle.'}, {'title': 'NASA and ESA Agree on Next Steps to Return Mars Samples to Earth', 'preview': 'The agency’s Perseverance rover will establish the first sample depot on Mars.'}, {'title': \"NASA's InSight Lander Detects Stunning Meteoroid Impact on Mars\", 'preview': 'The agency’s lander felt the ground shake during the impact while cameras aboard the Mars Reconnaissance Orbiter spotted the yawning new crater from space.'}, {'title': 'NASA To Host Briefing on InSight, Mars Reconnaissance Orbiter Findings', 'preview': 'Scientists from two Mars missions will discuss how they combined images and data for a major finding on the Red Planet.'}, {'title': 'Why NASA Is Trying To Crash Land on Mars', 'preview': 'Like a car’s crumple zone, the experimental SHIELD lander is designed to absorb a hard impact.'}, {'title': 'Curiosity Mars Rover Reaches Long-Awaited Salty Region', 'preview': 'After years of climbing, the Mars rover has arrived at a special region believed to have formed as Mars’ climate was drying.'}, {'title': 'Mars Mission Shields Up for Tests', 'preview': 'Protecting Mars Sample Return spacecraft from micrometeorites requires high-caliber work.'}, {'title': \"NASA's InSight Waits Out Dust Storm\", 'preview': 'InSight’s team is taking steps to help the solar-powered lander continue operating for as long as possible.'}, {'title': \"NASA's InSight 'Hears' Its First Meteoroid Impacts on Mars\", 'preview': 'The Mars lander’s seismometer has picked up vibrations from four separate impacts in the past two years.'}, {'title': \"NASA's Perseverance Rover Investigates Geologically Rich Mars Terrain\", 'preview': 'The latest findings provide greater detail on a region of the Red Planet that has a watery past and is yielding promising samples for the NASA-ESA Mars Sample Return campaign.'}, {'title': 'NASA to Host Briefing on Perseverance Mars Rover Mission Operations', 'preview': 'Members of the mission will discuss the rover’s activities as it gathers samples in an ancient river delta.'}, {'title': \"NASA's Perseverance Makes New Discoveries in Mars' Jezero Crater\", 'preview': 'The rover found that Jezero Crater’s floor is made up of volcanic rocks that have interacted with water.'}, {'title': \"10 Years Since Landing, NASA's Curiosity Mars Rover Still Has Drive\", 'preview': 'Despite signs of wear, the intrepid spacecraft is about to start an exciting new chapter of its mission as it climbs a Martian mountain.'}, {'title': \"SAM's Top 5 Discoveries Aboard NASA's Curiosity Rover at Mars\", 'preview': '“Selfie” of the Curiosity rover with inset showing the SAM instrument prior to installation on the rover.'}]\n"
     ]
    }
   ],
   "source": [
    "# Print the list of dictionaries\n",
    "print(articles)"
   ]
  },
  {
   "cell_type": "code",
   "execution_count": 12,
   "id": "259b4957-4996-4828-99e6-63dfaa6ea413",
   "metadata": {},
   "outputs": [],
   "source": [
    "# Quit the WebDriver\n",
    "driver.quit()"
   ]
  },
  {
   "cell_type": "code",
   "execution_count": null,
   "id": "cdcb0267-e90f-4dbf-b91b-d89c866f97b6",
   "metadata": {},
   "outputs": [],
   "source": []
  }
 ],
 "metadata": {
  "kernelspec": {
   "display_name": "Python 3 (ipykernel)",
   "language": "python",
   "name": "python3"
  },
  "language_info": {
   "codemirror_mode": {
    "name": "ipython",
    "version": 3
   },
   "file_extension": ".py",
   "mimetype": "text/x-python",
   "name": "python",
   "nbconvert_exporter": "python",
   "pygments_lexer": "ipython3",
   "version": "3.10.13"
  }
 },
 "nbformat": 4,
 "nbformat_minor": 5
}
